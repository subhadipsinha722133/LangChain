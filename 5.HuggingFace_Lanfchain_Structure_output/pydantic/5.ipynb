{
 "cells": [
  {
   "cell_type": "code",
   "execution_count": 1,
   "id": "3ff6fb02",
   "metadata": {},
   "outputs": [
    {
     "name": "stdout",
     "output_type": "stream",
     "text": [
      "name='subhadip' age=21 email='sinhasubhadip34@gmail.com' cgpa=6\n"
     ]
    }
   ],
   "source": [
    "from pydantic import BaseModel,EmailStr,Field\n",
    "from typing import Optional\n",
    "\n",
    "class Student(BaseModel):\n",
    "\n",
    "    name: str=\"subhadip\"\n",
    "    age:Optional[int]=None\n",
    "    email:EmailStr\n",
    "    cgpa:float=Field(gt=0,lt=10,default=6,description=\"I am GEN AI ENGINEEIR\")            # add description \n",
    "\n",
    "new_student = {'age' : '21','email':'sinhasubhadip34@gmail.com'}  \n",
    "\n",
    "student = Student( ** new_student)\n",
    "\n",
    "print(student)"
   ]
  },
  {
   "cell_type": "code",
   "execution_count": null,
   "id": "f3a3fbf7",
   "metadata": {},
   "outputs": [],
   "source": []
  }
 ],
 "metadata": {
  "kernelspec": {
   "display_name": "ENV1",
   "language": "python",
   "name": "python3"
  },
  "language_info": {
   "codemirror_mode": {
    "name": "ipython",
    "version": 3
   },
   "file_extension": ".py",
   "mimetype": "text/x-python",
   "name": "python",
   "nbconvert_exporter": "python",
   "pygments_lexer": "ipython3",
   "version": "3.11.13"
  }
 },
 "nbformat": 4,
 "nbformat_minor": 5
}
