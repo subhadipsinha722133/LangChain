{
 "cells": [
  {
   "cell_type": "code",
   "execution_count": null,
   "id": "daec1b36",
   "metadata": {},
   "outputs": [
    {
     "name": "stdout",
     "output_type": "stream",
     "text": [
      "name='subhadip'\n"
     ]
    }
   ],
   "source": [
    "\n",
    "# this code set defoult value\n",
    "\n",
    "from pydantic import BaseModel\n",
    "\n",
    "class Student(BaseModel):\n",
    "\n",
    "    name: str=\"subhadip\"\n",
    "\n",
    "new_student = {}\n",
    "\n",
    "student = Student( ** new_student)\n",
    "\n",
    "print(student)"
   ]
  },
  {
   "cell_type": "code",
   "execution_count": null,
   "id": "2eed8094",
   "metadata": {},
   "outputs": [
    {
     "name": "stdout",
     "output_type": "stream",
     "text": [
      "name='subhadip' age=21\n"
     ]
    }
   ],
   "source": [
    "from pydantic import BaseModel\n",
    "from typing import Optional\n",
    "\n",
    "class Student(BaseModel):\n",
    "\n",
    "    name: str=\"subhadip\"\n",
    "    age:Optional[int]=None\n",
    "\n",
    "new_student = {'age' : '21'}  # convart string to flot\n",
    "\n",
    "student = Student( ** new_student)\n",
    "\n",
    "print(student)"
   ]
  },
  {
   "cell_type": "code",
   "execution_count": null,
   "id": "1f3a7c90",
   "metadata": {},
   "outputs": [],
   "source": []
  }
 ],
 "metadata": {
  "kernelspec": {
   "display_name": "ENV1",
   "language": "python",
   "name": "python3"
  },
  "language_info": {
   "codemirror_mode": {
    "name": "ipython",
    "version": 3
   },
   "file_extension": ".py",
   "mimetype": "text/x-python",
   "name": "python",
   "nbconvert_exporter": "python",
   "pygments_lexer": "ipython3",
   "version": "3.11.13"
  }
 },
 "nbformat": 4,
 "nbformat_minor": 5
}
